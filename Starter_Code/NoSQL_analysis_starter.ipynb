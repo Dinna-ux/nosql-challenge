{
 "cells": [
  {
   "cell_type": "markdown",
   "id": "9a57c4c6",
   "metadata": {},
   "source": [
    "# Eat Safe, Love"
   ]
  },
  {
   "cell_type": "markdown",
   "id": "064ef857",
   "metadata": {},
   "source": [
    "## Notebook Set Up"
   ]
  },
  {
   "cell_type": "code",
   "execution_count": 1,
   "id": "3ecdd008",
   "metadata": {},
   "outputs": [],
   "source": [
    "# Import dependencies\n",
    "from pymongo import MongoClient\n",
    "import pandas as pd\n",
    "from pprint import pprint"
   ]
  },
  {
   "cell_type": "code",
   "execution_count": 2,
   "id": "59390c4a",
   "metadata": {},
   "outputs": [],
   "source": [
    "# Create an instance of MongoClient\n",
    "mongo = MongoClient(port=27017)"
   ]
  },
  {
   "cell_type": "code",
   "execution_count": 3,
   "id": "71e373c1",
   "metadata": {},
   "outputs": [],
   "source": [
    "# assign the uk_food database to a variable name\n",
    "db = mongo['uk_food']"
   ]
  },
  {
   "cell_type": "code",
   "execution_count": 4,
   "id": "18ab463c",
   "metadata": {},
   "outputs": [
    {
     "name": "stdout",
     "output_type": "stream",
     "text": [
      "['establishments']\n"
     ]
    }
   ],
   "source": [
    "# review the collections in our database\n",
    "print(db.list_collection_names())"
   ]
  },
  {
   "cell_type": "code",
   "execution_count": 5,
   "id": "11c9f11b",
   "metadata": {},
   "outputs": [],
   "source": [
    "# assign the collection to a variable\n",
    "establishments = db['establishments']"
   ]
  },
  {
   "cell_type": "markdown",
   "id": "d5671434",
   "metadata": {},
   "source": [
    "## Part 3: Exploratory Analysis\n",
    "Unless otherwise stated, for each question: \n",
    "* Use `count_documents` to display the number of documents contained in the result.\n",
    "* Display the first document in the results using `pprint`.\n",
    "* Convert the result to a Pandas DataFrame, print the number of rows in the DataFrame, and display the first 10 rows."
   ]
  },
  {
   "cell_type": "markdown",
   "id": "314bd884",
   "metadata": {},
   "source": [
    "### 1. Which establishments have a hygiene score equal to 20?"
   ]
  },
  {
   "cell_type": "code",
   "execution_count": 49,
   "id": "c2da7648",
   "metadata": {
    "scrolled": true
   },
   "outputs": [
    {
     "name": "stdout",
     "output_type": "stream",
     "text": [
      "The number of documents is:  41\n",
      "{'AddressLine1': '5-6 Southfields Road',\n",
      " 'AddressLine2': 'Eastbourne',\n",
      " 'AddressLine3': 'East Sussex',\n",
      " 'AddressLine4': '',\n",
      " 'BusinessName': 'The Chase Rest Home',\n",
      " 'BusinessType': 'Caring Premises',\n",
      " 'BusinessTypeID': 5,\n",
      " 'ChangesByServerID': 0,\n",
      " 'Distance': 4613.888288172291,\n",
      " 'FHRSID': 110681,\n",
      " 'LocalAuthorityBusinessID': '4029',\n",
      " 'LocalAuthorityCode': '102',\n",
      " 'LocalAuthorityEmailAddress': 'Customerfirst@eastbourne.gov.uk',\n",
      " 'LocalAuthorityName': 'Eastbourne',\n",
      " 'LocalAuthorityWebSite': 'http://www.eastbourne.gov.uk/foodratings',\n",
      " 'NewRatingPending': False,\n",
      " 'Phone': '',\n",
      " 'PostCode': 'BN21 1BU',\n",
      " 'RatingDate': '2021-09-23T00:00:00',\n",
      " 'RatingKey': 'fhrs_0_en-gb',\n",
      " 'RatingValue': 0,\n",
      " 'RightToReply': '',\n",
      " 'SchemeType': 'FHRS',\n",
      " '_id': ObjectId('6645aeef2275192a0b123853'),\n",
      " 'geocode': {'latitude': '50.769705', 'longitude': '0.27694'},\n",
      " 'latitude': None,\n",
      " 'links': [{'href': 'https://api.ratings.food.gov.uk/establishments/110681',\n",
      "            'rel': 'self'}],\n",
      " 'longitude': None,\n",
      " 'meta': {'dataSource': None,\n",
      "          'extractDate': '0001-01-01T00:00:00',\n",
      "          'itemCount': 0,\n",
      "          'pageNumber': 0,\n",
      "          'pageSize': 0,\n",
      "          'returncode': None,\n",
      "          'totalCount': 0,\n",
      "          'totalPages': 0},\n",
      " 'scores': {'ConfidenceInManagement': 20, 'Hygiene': 20, 'Structural': 20}}\n"
     ]
    }
   ],
   "source": [
    "# Find the establishments with a hygiene score of 20\n",
    "query = {'scores.Hygiene': 20}\n",
    "res_hyg_score = list(establishments.find(query))\n",
    "# Use count_documents to display the number of documents in the result\n",
    "print(f'The number of documents is: ',establishments.count_documents(query))\n",
    "# Display the first document in the results using pprint\n",
    "pprint(res_hyg_score[0])"
   ]
  },
  {
   "cell_type": "code",
   "execution_count": 54,
   "id": "a6e5cece",
   "metadata": {
    "scrolled": true
   },
   "outputs": [
    {
     "name": "stdout",
     "output_type": "stream",
     "text": [
      "The number of rows in the DataFrame is :  41\n",
      "                        _id   FHRSID  ChangesByServerID  \\\n",
      "0  6645aeef2275192a0b123853   110681                  0   \n",
      "1  6645aeef2275192a0b123bd3   612039                  0   \n",
      "2  6645aef02275192a0b123edd   730933                  0   \n",
      "3  6645aef02275192a0b1240cc   172735                  0   \n",
      "4  6645aef02275192a0b1240da   172953                  0   \n",
      "5  6645aef02275192a0b124a7a   512854                  0   \n",
      "6  6645aef02275192a0b124c9b  1537089                  0   \n",
      "7  6645aef02275192a0b1261c6   155648                  0   \n",
      "8  6645aef02275192a0b12660a  1012883                  0   \n",
      "9  6645aef02275192a0b126e1c   644109                  0   \n",
      "\n",
      "  LocalAuthorityBusinessID               BusinessName  \\\n",
      "0                     4029        The Chase Rest Home   \n",
      "1                1970/FOOD                 Brenalwood   \n",
      "2                1698/FOOD              Melrose Hotel   \n",
      "3             PI/000023858              Seaford Pizza   \n",
      "4             PI/000024532              Golden Palace   \n",
      "5            12/00816/BUTH           Ashby's Butchers   \n",
      "6          22/00224/RESTUN  South Sea Express Cuisine   \n",
      "7              EH/00006058              Golden Palace   \n",
      "8         17/00110/MIXED/S             The Tulip Tree   \n",
      "9                    41811                      F & S   \n",
      "\n",
      "                        BusinessType  BusinessTypeID           AddressLine1  \\\n",
      "0                    Caring Premises               5   5-6 Southfields Road   \n",
      "1                    Caring Premises               5              Hall Lane   \n",
      "2  Hotel/bed & breakfast/guest house            7842  53 Marine Parade East   \n",
      "3             Takeaway/sandwich shop            7844          4 High Street   \n",
      "4            Restaurant/Cafe/Canteen               1         5 South Street   \n",
      "5                  Retailers - other            4613   777 Southchurch Road   \n",
      "6            Restaurant/Cafe/Canteen               1    33 Alexandra Street   \n",
      "7             Takeaway/sandwich shop            7844          7 London Road   \n",
      "8            Restaurant/Cafe/Canteen               1          3 The Village   \n",
      "9                  Retailers - other            4613                          \n",
      "\n",
      "         AddressLine2 AddressLine3  ...  \\\n",
      "0          Eastbourne  East Sussex  ...   \n",
      "1  Walton-on-the-Naze        Essex  ...   \n",
      "2      Clacton On Sea        Essex  ...   \n",
      "3             Seaford  East Sussex  ...   \n",
      "4             Seaford  East Sussex  ...   \n",
      "5     Southend-On-Sea        Essex  ...   \n",
      "6     Southend-on-sea        Essex  ...   \n",
      "7            Rayleigh        Essex  ...   \n",
      "8       Chiddingstone         KENT  ...   \n",
      "9      81 Southernhay     Basildon  ...   \n",
      "\n",
      "                                              scores SchemeType  \\\n",
      "0  {'Hygiene': 20, 'Structural': 20, 'ConfidenceI...       FHRS   \n",
      "1  {'Hygiene': 20, 'Structural': 15, 'ConfidenceI...       FHRS   \n",
      "2  {'Hygiene': 20, 'Structural': 20, 'ConfidenceI...       FHRS   \n",
      "3  {'Hygiene': 20, 'Structural': 10, 'ConfidenceI...       FHRS   \n",
      "4  {'Hygiene': 20, 'Structural': 10, 'ConfidenceI...       FHRS   \n",
      "5  {'Hygiene': 20, 'Structural': 20, 'ConfidenceI...       FHRS   \n",
      "6  {'Hygiene': 20, 'Structural': 20, 'ConfidenceI...       FHRS   \n",
      "7  {'Hygiene': 20, 'Structural': 15, 'ConfidenceI...       FHRS   \n",
      "8  {'Hygiene': 20, 'Structural': 5, 'ConfidenceIn...       FHRS   \n",
      "9  {'Hygiene': 20, 'Structural': 20, 'ConfidenceI...       FHRS   \n",
      "\n",
      "                                             geocode  RightToReply  \\\n",
      "0  {'longitude': '0.27694', 'latitude': '50.769705'}                 \n",
      "1  {'longitude': '1.278721', 'latitude': '51.8575...                 \n",
      "2  {'longitude': '1.15927', 'latitude': '51.789429'}                 \n",
      "3  {'longitude': '0.10202', 'latitude': '50.770885'}                 \n",
      "4  {'longitude': '0.101446', 'latitude': '50.7707...                 \n",
      "5  {'longitude': '0.736349', 'latitude': '51.5414...                 \n",
      "6  {'longitude': '0.7121671', 'latitude': '51.535...                 \n",
      "7  {'longitude': '0.602364', 'latitude': '51.5915...                 \n",
      "8  {'longitude': '0.146449998021126', 'latitude':...                 \n",
      "9  {'longitude': '0.462307', 'latitude': '51.57005'}                 \n",
      "\n",
      "      Distance NewRatingPending  \\\n",
      "0  4613.888288            False   \n",
      "1  4617.965824            False   \n",
      "2  4619.656144            False   \n",
      "3  4620.421725            False   \n",
      "4  4620.437179            False   \n",
      "5  4625.565258            False   \n",
      "6  4626.200132            False   \n",
      "7  4632.276890            False   \n",
      "8  4633.934041            False   \n",
      "9  4636.552523            False   \n",
      "\n",
      "                                                meta  \\\n",
      "0  {'dataSource': None, 'extractDate': '0001-01-0...   \n",
      "1  {'dataSource': None, 'extractDate': '0001-01-0...   \n",
      "2  {'dataSource': None, 'extractDate': '0001-01-0...   \n",
      "3  {'dataSource': None, 'extractDate': '0001-01-0...   \n",
      "4  {'dataSource': None, 'extractDate': '0001-01-0...   \n",
      "5  {'dataSource': None, 'extractDate': '0001-01-0...   \n",
      "6  {'dataSource': None, 'extractDate': '0001-01-0...   \n",
      "7  {'dataSource': None, 'extractDate': '0001-01-0...   \n",
      "8  {'dataSource': None, 'extractDate': '0001-01-0...   \n",
      "9  {'dataSource': None, 'extractDate': '0001-01-0...   \n",
      "\n",
      "                                               links latitude longitude  \n",
      "0  [{'rel': 'self', 'href': 'https://api.ratings....     None      None  \n",
      "1  [{'rel': 'self', 'href': 'https://api.ratings....     None      None  \n",
      "2  [{'rel': 'self', 'href': 'https://api.ratings....     None      None  \n",
      "3  [{'rel': 'self', 'href': 'https://api.ratings....     None      None  \n",
      "4  [{'rel': 'self', 'href': 'https://api.ratings....     None      None  \n",
      "5  [{'rel': 'self', 'href': 'https://api.ratings....     None      None  \n",
      "6  [{'rel': 'self', 'href': 'https://api.ratings....     None      None  \n",
      "7  [{'rel': 'self', 'href': 'http://api.ratings.f...     None      None  \n",
      "8  [{'rel': 'self', 'href': 'http://api.ratings.f...     None      None  \n",
      "9  [{'rel': 'self', 'href': 'http://api.ratings.f...     None      None  \n",
      "\n",
      "[10 rows x 30 columns]\n"
     ]
    }
   ],
   "source": [
    "# Convert the result to a Pandas DataFrame\n",
    "df = pd.DataFrame(results)\n",
    "# Display the number of rows in the DataFrame\n",
    "print(f'The number of rows in the DataFrame is : ',len(df))\n",
    "# Display the first 10 rows of the DataFrame\n",
    "print(df.head(10))"
   ]
  },
  {
   "cell_type": "markdown",
   "id": "0ef4395a",
   "metadata": {},
   "source": [
    "### 2. Which establishments in London have a `RatingValue` greater than or equal to 4?"
   ]
  },
  {
   "cell_type": "code",
   "execution_count": 35,
   "id": "93c63829",
   "metadata": {},
   "outputs": [
    {
     "name": "stdout",
     "output_type": "stream",
     "text": [
      "<pymongo.cursor.Cursor object at 0x000002665730B940>\n"
     ]
    }
   ],
   "source": [
    "# Find the establishments with London as the Local Authority and has a RatingValue greater than or equal to 4.\n",
    "query = {'LocalAuthorityName' : 'London',\n",
    "         'RatingValue': {'$gte' :4}\n",
    "        }\n",
    "\n",
    "# Use count_documents to display the number of documents in the result\n",
    "results = establishments.count_documents(query)\n",
    "# Display the first document in the results using pprint\n",
    "first_document = establishments.find_one(query)\n",
    "doc_results = establishments.find(query)\n",
    "pprint(doc_results)"
   ]
  },
  {
   "cell_type": "code",
   "execution_count": 55,
   "id": "07e24ccb",
   "metadata": {},
   "outputs": [
    {
     "name": "stdout",
     "output_type": "stream",
     "text": [
      "Number of rows:  0\n",
      "Empty DataFrame\n",
      "Columns: []\n",
      "Index: []\n"
     ]
    }
   ],
   "source": [
    "# Convert the result to a Pandas DataFrame\n",
    "df = pd.DataFrame(doc_results)\n",
    "# Display the number of rows in the DataFrame\n",
    "print('Number of rows: ', len(df))\n",
    "# Display the first 10 rows of the DataFrame\n",
    "print(df.head(10))"
   ]
  },
  {
   "attachments": {},
   "cell_type": "markdown",
   "id": "4e570caf",
   "metadata": {},
   "source": [
    "### 3. What are the top 5 establishments with a `RatingValue` rating value of 5, sorted by lowest hygiene score, nearest to the new restaurant added, \"Penang Flavours\"?"
   ]
  },
  {
   "cell_type": "code",
   "execution_count": 63,
   "id": "7f599f3d",
   "metadata": {
    "scrolled": true
   },
   "outputs": [
    {
     "name": "stdout",
     "output_type": "stream",
     "text": [
      "[{'BusinessName': 'Da Vinci Hotel',\n",
      "  'RatingValue': 5,\n",
      "  'geocode': {'latitude': '50.763522', 'longitude': '0.286765'}},\n",
      " {'BusinessName': 'Citrus Hotel Eastbourne',\n",
      "  'RatingValue': 5,\n",
      "  'geocode': {'latitude': '50.761449', 'longitude': '0.284707'}},\n",
      " {'BusinessName': 'Howard Square Kiosk',\n",
      "  'RatingValue': 5,\n",
      "  'geocode': {'latitude': '50.7627601623535', 'longitude': '0.28642800450325'}},\n",
      " {'BusinessName': 'Best Western Lansdowne Hotel',\n",
      "  'RatingValue': 5,\n",
      "  'geocode': {'latitude': '50.761023', 'longitude': '0.284417'}},\n",
      " {'BusinessName': 'Oban Hotel',\n",
      "  'RatingValue': 5,\n",
      "  'geocode': {'latitude': '50.76237', 'longitude': '0.285901'}},\n",
      " {'BusinessName': 'Carpet Gardens Kiosk',\n",
      "  'RatingValue': 5,\n",
      "  'geocode': {'latitude': '50.7627601623535', 'longitude': '0.28642800450325'}},\n",
      " {'BusinessName': 'Wish Tower Kiosk',\n",
      "  'RatingValue': 5,\n",
      "  'geocode': {'latitude': '50.760872', 'longitude': '0.286154'}},\n",
      " {'BusinessName': 'Airstream Mobile Catering Unit',\n",
      "  'RatingValue': 5,\n",
      "  'geocode': {'latitude': '50.760872', 'longitude': '0.286154'}},\n",
      " {'BusinessName': 'Bistrot Pierre',\n",
      "  'RatingValue': 5,\n",
      "  'geocode': {'latitude': '50.760872', 'longitude': '0.286154'}},\n",
      " {'BusinessName': 'The View Hotel',\n",
      "  'RatingValue': 5,\n",
      "  'geocode': {'latitude': '50.763155', 'longitude': '0.286676'}}]\n"
     ]
    }
   ],
   "source": [
    "# Search within 0.01 degree on either side of the latitude and longitude.\n",
    "# Rating value must equal 5\n",
    "# Sort by hygiene score\n",
    "\n",
    "degree_search = 0.01\n",
    "latitude = 50.769705\n",
    "longitude = 0.27694\n",
    "\n",
    "query = {\n",
    "    'geocode.latitude': {'$gte': str(latitude - degree_search), '$lte': str(latitude + degree_search)},\n",
    "    'geocode.longitude': {'$gte': str(longitude - degree_search), '$lte': str(longitude + degree_search)},\n",
    "    'RatingValue': 5\n",
    "}\n",
    "projection = {\n",
    "    '_id': 0,\n",
    "    'BusinessName': 1,\n",
    "    'RatingValue': 1,\n",
    "    'HygieneScore': 1,\n",
    "    'geocode.latitude': 1,\n",
    "    'geocode.longitude': 1\n",
    "}\n",
    "\n",
    "sort = [('HygieneScore', 1)]\n",
    "limit = 10\n",
    "cursor = establishments.find(query, projection).sort(sort).limit(limit)\n",
    "search_results = list(cursor)\n",
    "# Print the results\n",
    "pprint(search_results)"
   ]
  },
  {
   "cell_type": "code",
   "execution_count": 64,
   "id": "a6ad16f7",
   "metadata": {},
   "outputs": [
    {
     "data": {
      "text/html": [
       "<div>\n",
       "<style scoped>\n",
       "    .dataframe tbody tr th:only-of-type {\n",
       "        vertical-align: middle;\n",
       "    }\n",
       "\n",
       "    .dataframe tbody tr th {\n",
       "        vertical-align: top;\n",
       "    }\n",
       "\n",
       "    .dataframe thead th {\n",
       "        text-align: right;\n",
       "    }\n",
       "</style>\n",
       "<table border=\"1\" class=\"dataframe\">\n",
       "  <thead>\n",
       "    <tr style=\"text-align: right;\">\n",
       "      <th></th>\n",
       "      <th>BusinessName</th>\n",
       "      <th>RatingValue</th>\n",
       "      <th>geocode</th>\n",
       "    </tr>\n",
       "  </thead>\n",
       "  <tbody>\n",
       "    <tr>\n",
       "      <th>0</th>\n",
       "      <td>Da Vinci Hotel</td>\n",
       "      <td>5</td>\n",
       "      <td>{'longitude': '0.286765', 'latitude': '50.7635...</td>\n",
       "    </tr>\n",
       "    <tr>\n",
       "      <th>1</th>\n",
       "      <td>Citrus Hotel Eastbourne</td>\n",
       "      <td>5</td>\n",
       "      <td>{'longitude': '0.284707', 'latitude': '50.7614...</td>\n",
       "    </tr>\n",
       "    <tr>\n",
       "      <th>2</th>\n",
       "      <td>Howard Square Kiosk</td>\n",
       "      <td>5</td>\n",
       "      <td>{'longitude': '0.28642800450325', 'latitude': ...</td>\n",
       "    </tr>\n",
       "    <tr>\n",
       "      <th>3</th>\n",
       "      <td>Best Western Lansdowne Hotel</td>\n",
       "      <td>5</td>\n",
       "      <td>{'longitude': '0.284417', 'latitude': '50.7610...</td>\n",
       "    </tr>\n",
       "    <tr>\n",
       "      <th>4</th>\n",
       "      <td>Oban Hotel</td>\n",
       "      <td>5</td>\n",
       "      <td>{'longitude': '0.285901', 'latitude': '50.76237'}</td>\n",
       "    </tr>\n",
       "    <tr>\n",
       "      <th>5</th>\n",
       "      <td>Carpet Gardens Kiosk</td>\n",
       "      <td>5</td>\n",
       "      <td>{'longitude': '0.28642800450325', 'latitude': ...</td>\n",
       "    </tr>\n",
       "    <tr>\n",
       "      <th>6</th>\n",
       "      <td>Wish Tower Kiosk</td>\n",
       "      <td>5</td>\n",
       "      <td>{'longitude': '0.286154', 'latitude': '50.7608...</td>\n",
       "    </tr>\n",
       "    <tr>\n",
       "      <th>7</th>\n",
       "      <td>Airstream Mobile Catering Unit</td>\n",
       "      <td>5</td>\n",
       "      <td>{'longitude': '0.286154', 'latitude': '50.7608...</td>\n",
       "    </tr>\n",
       "    <tr>\n",
       "      <th>8</th>\n",
       "      <td>Bistrot Pierre</td>\n",
       "      <td>5</td>\n",
       "      <td>{'longitude': '0.286154', 'latitude': '50.7608...</td>\n",
       "    </tr>\n",
       "    <tr>\n",
       "      <th>9</th>\n",
       "      <td>The View Hotel</td>\n",
       "      <td>5</td>\n",
       "      <td>{'longitude': '0.286676', 'latitude': '50.7631...</td>\n",
       "    </tr>\n",
       "  </tbody>\n",
       "</table>\n",
       "</div>"
      ],
      "text/plain": [
       "                     BusinessName  RatingValue  \\\n",
       "0                  Da Vinci Hotel            5   \n",
       "1         Citrus Hotel Eastbourne            5   \n",
       "2             Howard Square Kiosk            5   \n",
       "3    Best Western Lansdowne Hotel            5   \n",
       "4                      Oban Hotel            5   \n",
       "5            Carpet Gardens Kiosk            5   \n",
       "6                Wish Tower Kiosk            5   \n",
       "7  Airstream Mobile Catering Unit            5   \n",
       "8                  Bistrot Pierre            5   \n",
       "9                  The View Hotel            5   \n",
       "\n",
       "                                             geocode  \n",
       "0  {'longitude': '0.286765', 'latitude': '50.7635...  \n",
       "1  {'longitude': '0.284707', 'latitude': '50.7614...  \n",
       "2  {'longitude': '0.28642800450325', 'latitude': ...  \n",
       "3  {'longitude': '0.284417', 'latitude': '50.7610...  \n",
       "4  {'longitude': '0.285901', 'latitude': '50.76237'}  \n",
       "5  {'longitude': '0.28642800450325', 'latitude': ...  \n",
       "6  {'longitude': '0.286154', 'latitude': '50.7608...  \n",
       "7  {'longitude': '0.286154', 'latitude': '50.7608...  \n",
       "8  {'longitude': '0.286154', 'latitude': '50.7608...  \n",
       "9  {'longitude': '0.286676', 'latitude': '50.7631...  "
      ]
     },
     "execution_count": 64,
     "metadata": {},
     "output_type": "execute_result"
    }
   ],
   "source": [
    "# Convert result to Pandas DataFrame\n",
    "search_df = pd.DataFrame(search_results)\n",
    "search_df"
   ]
  },
  {
   "cell_type": "markdown",
   "id": "67281254",
   "metadata": {},
   "source": [
    "### 4. How many establishments in each Local Authority area have a hygiene score of 0?"
   ]
  },
  {
   "cell_type": "code",
   "execution_count": 24,
   "id": "4eeb227e",
   "metadata": {
    "scrolled": true
   },
   "outputs": [
    {
     "name": "stdout",
     "output_type": "stream",
     "text": [
      "[{'_id': 'Thanet', 'count': 1130},\n",
      " {'_id': 'Greenwich', 'count': 882},\n",
      " {'_id': 'Maidstone', 'count': 713},\n",
      " {'_id': 'Newham', 'count': 711},\n",
      " {'_id': 'Swale', 'count': 686},\n",
      " {'_id': 'Chelmsford', 'count': 680},\n",
      " {'_id': 'Medway', 'count': 672},\n",
      " {'_id': 'Bexley', 'count': 607},\n",
      " {'_id': 'Southend-On-Sea', 'count': 586},\n",
      " {'_id': 'Tendring', 'count': 542},\n",
      " {'_id': 'Colchester', 'count': 498},\n",
      " {'_id': 'Tunbridge Wells', 'count': 491},\n",
      " {'_id': 'Folkestone and Hythe', 'count': 480},\n",
      " {'_id': 'Eastbourne', 'count': 478},\n",
      " {'_id': 'Hastings', 'count': 464},\n",
      " {'_id': 'Bromley', 'count': 460},\n",
      " {'_id': 'Ashford', 'count': 427},\n",
      " {'_id': 'Havering', 'count': 397},\n",
      " {'_id': 'Dartford', 'count': 383},\n",
      " {'_id': 'Braintree', 'count': 382},\n",
      " {'_id': 'Basildon', 'count': 362},\n",
      " {'_id': 'Gravesham', 'count': 339},\n",
      " {'_id': 'Tonbridge and Malling', 'count': 325},\n",
      " {'_id': 'Thurrock', 'count': 313},\n",
      " {'_id': 'Barking and Dagenham', 'count': 301},\n",
      " {'_id': 'Canterbury City', 'count': 298},\n",
      " {'_id': 'Brentwood', 'count': 285},\n",
      " {'_id': 'Castle Point', 'count': 281},\n",
      " {'_id': 'Harlow', 'count': 274},\n",
      " {'_id': 'Uttlesford', 'count': 251},\n",
      " {'_id': 'Lewes', 'count': 250},\n",
      " {'_id': 'Sevenoaks', 'count': 223},\n",
      " {'_id': 'Maldon', 'count': 197},\n",
      " {'_id': 'East Hertfordshire', 'count': 189},\n",
      " {'_id': 'Rochford', 'count': 187},\n",
      " {'_id': 'Redbridge', 'count': 182},\n",
      " {'_id': 'Epping Forest', 'count': 180},\n",
      " {'_id': 'East Suffolk', 'count': 159},\n",
      " {'_id': 'Waltham Forest', 'count': 110},\n",
      " {'_id': 'Babergh', 'count': 97},\n",
      " {'_id': 'Wealden', 'count': 93},\n",
      " {'_id': 'Rother', 'count': 80},\n",
      " {'_id': 'Lewisham', 'count': 65},\n",
      " {'_id': 'Tandridge', 'count': 42},\n",
      " {'_id': 'City of London Corporation', 'count': 28},\n",
      " {'_id': 'Ipswich', 'count': 21},\n",
      " {'_id': 'Tower Hamlets', 'count': 9},\n",
      " {'_id': 'North Hertfordshire', 'count': 6},\n",
      " {'_id': 'Mid Sussex', 'count': 5},\n",
      " {'_id': 'Reading', 'count': 1},\n",
      " {'_id': 'Dorset', 'count': 1},\n",
      " {'_id': 'Broxbourne', 'count': 1},\n",
      " {'_id': 'Kensington and Chelsea', 'count': 1},\n",
      " {'_id': 'North Norfolk', 'count': 1},\n",
      " {'_id': 'Sunderland', 'count': 1}]\n"
     ]
    }
   ],
   "source": [
    "# Create a pipeline that:\n",
    "# 1. Matches establishments with a hygiene score of 0\n",
    "match_query = {'$match' : {'scores.Hygiene' : {'$eq' : 0}}}\n",
    "# 2. Groups the matches by Local Authority\n",
    "group_query = {'$group' : {'_id' : '$LocalAuthorityName', 'count' : {'$sum' : 1}}}\n",
    "# 3. Sorts the matches from highest to lowest\n",
    "sort_values = {'$sort' : {'count' : -1}}\n",
    "\n",
    "#pipeline \n",
    "pipeline = [match_query, group_query, sort_values]\n",
    "# Print the number of documents in the result\n",
    "results = list(establishments.aggregate(pipeline))\n",
    "# Print the first 10 results\n",
    "pprint(results)"
   ]
  },
  {
   "cell_type": "code",
   "execution_count": 29,
   "id": "d8aab364",
   "metadata": {},
   "outputs": [
    {
     "name": "stdout",
     "output_type": "stream",
     "text": [
      "The number of rows is:  55\n"
     ]
    },
    {
     "data": {
      "text/html": [
       "<div>\n",
       "<style scoped>\n",
       "    .dataframe tbody tr th:only-of-type {\n",
       "        vertical-align: middle;\n",
       "    }\n",
       "\n",
       "    .dataframe tbody tr th {\n",
       "        vertical-align: top;\n",
       "    }\n",
       "\n",
       "    .dataframe thead th {\n",
       "        text-align: right;\n",
       "    }\n",
       "</style>\n",
       "<table border=\"1\" class=\"dataframe\">\n",
       "  <thead>\n",
       "    <tr style=\"text-align: right;\">\n",
       "      <th></th>\n",
       "      <th>_id</th>\n",
       "      <th>count</th>\n",
       "    </tr>\n",
       "  </thead>\n",
       "  <tbody>\n",
       "    <tr>\n",
       "      <th>0</th>\n",
       "      <td>Thanet</td>\n",
       "      <td>1130</td>\n",
       "    </tr>\n",
       "    <tr>\n",
       "      <th>1</th>\n",
       "      <td>Greenwich</td>\n",
       "      <td>882</td>\n",
       "    </tr>\n",
       "    <tr>\n",
       "      <th>2</th>\n",
       "      <td>Maidstone</td>\n",
       "      <td>713</td>\n",
       "    </tr>\n",
       "    <tr>\n",
       "      <th>3</th>\n",
       "      <td>Newham</td>\n",
       "      <td>711</td>\n",
       "    </tr>\n",
       "    <tr>\n",
       "      <th>4</th>\n",
       "      <td>Swale</td>\n",
       "      <td>686</td>\n",
       "    </tr>\n",
       "    <tr>\n",
       "      <th>5</th>\n",
       "      <td>Chelmsford</td>\n",
       "      <td>680</td>\n",
       "    </tr>\n",
       "    <tr>\n",
       "      <th>6</th>\n",
       "      <td>Medway</td>\n",
       "      <td>672</td>\n",
       "    </tr>\n",
       "    <tr>\n",
       "      <th>7</th>\n",
       "      <td>Bexley</td>\n",
       "      <td>607</td>\n",
       "    </tr>\n",
       "    <tr>\n",
       "      <th>8</th>\n",
       "      <td>Southend-On-Sea</td>\n",
       "      <td>586</td>\n",
       "    </tr>\n",
       "    <tr>\n",
       "      <th>9</th>\n",
       "      <td>Tendring</td>\n",
       "      <td>542</td>\n",
       "    </tr>\n",
       "  </tbody>\n",
       "</table>\n",
       "</div>"
      ],
      "text/plain": [
       "               _id  count\n",
       "0           Thanet   1130\n",
       "1        Greenwich    882\n",
       "2        Maidstone    713\n",
       "3           Newham    711\n",
       "4            Swale    686\n",
       "5       Chelmsford    680\n",
       "6           Medway    672\n",
       "7           Bexley    607\n",
       "8  Southend-On-Sea    586\n",
       "9         Tendring    542"
      ]
     },
     "execution_count": 29,
     "metadata": {},
     "output_type": "execute_result"
    }
   ],
   "source": [
    "# Convert the result to a Pandas DataFrame\n",
    "results_df = pd.DataFrame(results)\n",
    "# Display the number of rows in the DataFrame\n",
    "print('The number of rows is: ', len(results_df))\n",
    "# Display the first 10 rows of the DataFrame\n",
    "df.head(10)"
   ]
  },
  {
   "cell_type": "code",
   "execution_count": null,
   "id": "26210ddd-3043-4225-94ac-d0afc9792532",
   "metadata": {},
   "outputs": [],
   "source": []
  }
 ],
 "metadata": {
  "kernelspec": {
   "display_name": "Python 3 (ipykernel)",
   "language": "python",
   "name": "python3"
  },
  "language_info": {
   "codemirror_mode": {
    "name": "ipython",
    "version": 3
   },
   "file_extension": ".py",
   "mimetype": "text/x-python",
   "name": "python",
   "nbconvert_exporter": "python",
   "pygments_lexer": "ipython3",
   "version": "3.10.14"
  }
 },
 "nbformat": 4,
 "nbformat_minor": 5
}
