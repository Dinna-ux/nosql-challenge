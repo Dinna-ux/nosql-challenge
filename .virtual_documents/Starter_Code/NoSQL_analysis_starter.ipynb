





# Import dependencies
from pymongo import MongoClient
import pandas as pd
from pprint import pprint


# Create an instance of MongoClient
mongo = MongoClient(port=27017)


# assign the uk_food database to a variable name
db = mongo['uk_food']


# review the collections in our database
print(db.list_collection_names())


# assign the collection to a variable
establishments = db['establishments']








# Find the establishments with a hygiene score of 20
query = {'scores.Hygiene': 20}
# Use count_documents to display the number of documents in the result
results = list(establishments.find(query))
# Display the first document in the results using pprint
pprint(results)


# Convert the result to a Pandas DataFrame
df = pd.DataFrame(results)
# Display the number of rows in the DataFrame
num_rows = df.shape[0]
# Display the first 10 rows of the DataFrame
print(df)





# Find the establishments with London as the Local Authority and has a RatingValue greater than or equal to 4.
query = {'LocalAuthorityName' : 'London',
         'RatingValue': {'$gte' :4}
        }

# Use count_documents to display the number of documents in the result
results = establishments.count_documents(query)
# Display the first document in the results using pprint
first_document = establishments.find_one(query)
doc_results = establishments.find(query)
pprint(doc_results)


# Convert the result to a Pandas DataFrame
df = pd.DataFrame(doc_results)
# Display the number of rows in the DataFrame
print('Number of rows: ', len(df))
# Display the first 10 rows of the DataFrame
df.head(10)





# Search within 0.01 degree on either side of the latitude and longitude.
# Rating value must equal 5
# Sort by hygiene score

degree_search = 0.01
latitude = 50.769705
longitude = 0.27694

query = {
    'latitude' : {'$gte' : latitude - degree_search, '$lte' : latitude + degree_search},
    'longitude' : {'$gte' : longitude - degree_search, '$lte' : longitude + degree_search},
    'RatingValue' : 5
}
projection = {'_id': 0, 'BusinessName': 1, 'RatingValue': 1, 'HygieneScore': 1, 'Latitude': 1, 'Longitude': 1}
sort = [('HygieneScore',1)]
limit = 10
cursor = establishments.find(query, projection).sort(sort).limit(limit)
results = list(cursor)
# Print the results
pprint(results)


# Convert result to Pandas DataFrame
df = pd.DataFrame(results)





# Create a pipeline that:
# 1. Matches establishments with a hygiene score of 0
match_query = {'$match' : {'scores.Hygiene' : {'$eq' : 0}}}
# 2. Groups the matches by Local Authority
group_query = {'$group' : {'_id' : '$LocalAuthorityName', 'count' : {'$sum' : 1}}}
# 3. Sorts the matches from highest to lowest
sort_values = {'$sort' : {'count' : -1}}

#pipeline 
pipeline = [match_query, group_query, sort_values]
# Print the number of documents in the result
results = list(establishments.aggregate(pipeline))
# Print the first 10 results
pprint(results)


# Convert the result to a Pandas DataFrame
results_df = pd.DataFrame(results)
# Display the number of rows in the DataFrame
print('The number of rows is: ', len(results_df))
# Display the first 10 rows of the DataFrame
df.head(10)



